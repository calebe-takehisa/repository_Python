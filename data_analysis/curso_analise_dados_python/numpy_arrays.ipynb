{
 "cells": [
  {
   "cell_type": "code",
   "execution_count": 6,
   "metadata": {},
   "outputs": [],
   "source": [
    "import numpy as np"
   ]
  },
  {
   "cell_type": "code",
   "execution_count": 2,
   "metadata": {},
   "outputs": [],
   "source": [
    "qtde = [2, 5, 10, 20, 35]\n",
    "custo = [100, 150, 450, 320, 195]"
   ]
  },
  {
   "cell_type": "code",
   "execution_count": 8,
   "metadata": {},
   "outputs": [],
   "source": [
    "arr1 = np.array(qtde)"
   ]
  },
  {
   "cell_type": "code",
   "execution_count": 7,
   "metadata": {},
   "outputs": [],
   "source": [
    "arr2 = np.array(custo)"
   ]
  },
  {
   "cell_type": "code",
   "execution_count": 9,
   "metadata": {},
   "outputs": [],
   "source": [
    "estoque = arr1*arr2"
   ]
  },
  {
   "cell_type": "code",
   "execution_count": 10,
   "metadata": {},
   "outputs": [
    {
     "data": {
      "text/plain": [
       "array([ 200,  750, 4500, 6400, 6825])"
      ]
     },
     "execution_count": 10,
     "metadata": {},
     "output_type": "execute_result"
    }
   ],
   "source": [
    "estoque"
   ]
  },
  {
   "cell_type": "code",
   "execution_count": 11,
   "metadata": {},
   "outputs": [],
   "source": [
    "custo = [100,200,300,400]\n",
    "venda = [125,235,355,490]"
   ]
  },
  {
   "cell_type": "code",
   "execution_count": 12,
   "metadata": {},
   "outputs": [],
   "source": [
    "arr3 = np.array(custo)"
   ]
  },
  {
   "cell_type": "code",
   "execution_count": 13,
   "metadata": {},
   "outputs": [],
   "source": [
    "arr4 = np.array(venda)"
   ]
  },
  {
   "cell_type": "code",
   "execution_count": 14,
   "metadata": {},
   "outputs": [],
   "source": [
    "lucro = arr4 - arr3"
   ]
  },
  {
   "cell_type": "code",
   "execution_count": 15,
   "metadata": {},
   "outputs": [
    {
     "data": {
      "text/plain": [
       "array([25, 35, 55, 90])"
      ]
     },
     "execution_count": 15,
     "metadata": {},
     "output_type": "execute_result"
    }
   ],
   "source": [
    "lucro"
   ]
  },
  {
   "cell_type": "code",
   "execution_count": 17,
   "metadata": {},
   "outputs": [
    {
     "data": {
      "text/plain": [
       "array([10, 11, 12, 13, 14, 15, 16, 17, 18, 19])"
      ]
     },
     "execution_count": 17,
     "metadata": {},
     "output_type": "execute_result"
    }
   ],
   "source": [
    "np.arange(10, 20)"
   ]
  },
  {
   "cell_type": "code",
   "execution_count": 18,
   "metadata": {},
   "outputs": [
    {
     "data": {
      "text/plain": [
       "array([10, 12, 14, 16, 18, 20])"
      ]
     },
     "execution_count": 18,
     "metadata": {},
     "output_type": "execute_result"
    }
   ],
   "source": [
    "np.arange(10,21,2)"
   ]
  },
  {
   "cell_type": "code",
   "execution_count": 19,
   "metadata": {},
   "outputs": [
    {
     "data": {
      "text/plain": [
       "array([ 10.,  12.,  14.,  16.,  18.,  20.,  22.,  24.,  26.,  28.,  30.,\n",
       "        32.,  34.,  36.,  38.,  40.,  42.,  44.,  46.,  48.,  50.,  52.,\n",
       "        54.,  56.,  58.,  60.,  62.,  64.,  66.,  68.,  70.,  72.,  74.,\n",
       "        76.,  78.,  80.,  82.,  84.,  86.,  88.,  90.,  92.,  94.,  96.,\n",
       "        98., 100.])"
      ]
     },
     "execution_count": 19,
     "metadata": {},
     "output_type": "execute_result"
    }
   ],
   "source": [
    "np.arange(10, 101,2, dtype=float)"
   ]
  },
  {
   "cell_type": "code",
   "execution_count": 20,
   "metadata": {},
   "outputs": [
    {
     "data": {
      "text/plain": [
       "array([0.        , 0.11111111, 0.22222222, 0.33333333, 0.44444444,\n",
       "       0.55555556, 0.66666667, 0.77777778, 0.88888889, 1.        ])"
      ]
     },
     "execution_count": 20,
     "metadata": {},
     "output_type": "execute_result"
    }
   ],
   "source": [
    "np.linspace(0, 1, 10)"
   ]
  },
  {
   "cell_type": "code",
   "execution_count": 21,
   "metadata": {},
   "outputs": [
    {
     "data": {
      "text/plain": [
       "array([ 1.,  2.,  3.,  4.,  5.,  6.,  7.,  8.,  9., 10.])"
      ]
     },
     "execution_count": 21,
     "metadata": {},
     "output_type": "execute_result"
    }
   ],
   "source": [
    "np.linspace(1,10,10)"
   ]
  },
  {
   "cell_type": "code",
   "execution_count": 22,
   "metadata": {},
   "outputs": [
    {
     "data": {
      "text/plain": [
       "array([0.25102709, 0.43838554, 0.71755296, 0.3363647 , 0.44323161,\n",
       "       0.36377465, 0.41789826, 0.17163202, 0.34691806, 0.48646997])"
      ]
     },
     "execution_count": 22,
     "metadata": {},
     "output_type": "execute_result"
    }
   ],
   "source": [
    "np.random.rand(10)"
   ]
  },
  {
   "cell_type": "code",
   "execution_count": 23,
   "metadata": {},
   "outputs": [
    {
     "data": {
      "text/plain": [
       "array([-1.09745828,  1.40962724, -1.27986911, -2.93713426, -0.91393788,\n",
       "        1.03821736,  0.34995524, -1.50133617,  0.24152796,  1.17355955])"
      ]
     },
     "execution_count": 23,
     "metadata": {},
     "output_type": "execute_result"
    }
   ],
   "source": [
    "np.random.randn(10)"
   ]
  },
  {
   "cell_type": "code",
   "execution_count": 24,
   "metadata": {},
   "outputs": [
    {
     "data": {
      "text/plain": [
       "array([46, 20, 17, 60, 21, 83, 98, 71, 72, 22, 39, 16, 84, 43, 69, 12, 80,\n",
       "       47, 65, 84, 71, 46, 31, 83, 34, 19, 15, 13, 75, 32])"
      ]
     },
     "execution_count": 24,
     "metadata": {},
     "output_type": "execute_result"
    }
   ],
   "source": [
    "np.random.randint(10,100,30)"
   ]
  },
  {
   "cell_type": "code",
   "execution_count": 25,
   "metadata": {},
   "outputs": [
    {
     "data": {
      "text/plain": [
       "array([[0., 0., 0., 0.],\n",
       "       [0., 0., 0., 0.],\n",
       "       [0., 0., 0., 0.],\n",
       "       [0., 0., 0., 0.],\n",
       "       [0., 0., 0., 0.]])"
      ]
     },
     "execution_count": 25,
     "metadata": {},
     "output_type": "execute_result"
    }
   ],
   "source": [
    "np.zeros((5,4))"
   ]
  },
  {
   "cell_type": "code",
   "execution_count": 26,
   "metadata": {},
   "outputs": [
    {
     "data": {
      "text/plain": [
       "array([[1., 1., 1., 1., 1.],\n",
       "       [1., 1., 1., 1., 1.],\n",
       "       [1., 1., 1., 1., 1.],\n",
       "       [1., 1., 1., 1., 1.],\n",
       "       [1., 1., 1., 1., 1.]])"
      ]
     },
     "execution_count": 26,
     "metadata": {},
     "output_type": "execute_result"
    }
   ],
   "source": [
    "np.ones((5,5))"
   ]
  },
  {
   "cell_type": "code",
   "execution_count": 27,
   "metadata": {},
   "outputs": [
    {
     "data": {
      "text/plain": [
       "array([[1., 0., 0., 0., 0.],\n",
       "       [0., 1., 0., 0., 0.],\n",
       "       [0., 0., 1., 0., 0.],\n",
       "       [0., 0., 0., 1., 0.],\n",
       "       [0., 0., 0., 0., 1.]])"
      ]
     },
     "execution_count": 27,
     "metadata": {},
     "output_type": "execute_result"
    }
   ],
   "source": [
    "np.eye(5)"
   ]
  },
  {
   "cell_type": "code",
   "execution_count": 28,
   "metadata": {},
   "outputs": [],
   "source": [
    "arr = np.arange(1, 11,dtype=int)"
   ]
  },
  {
   "cell_type": "code",
   "execution_count": 29,
   "metadata": {},
   "outputs": [
    {
     "data": {
      "text/plain": [
       "array([ 1,  2,  3,  4,  5,  6,  7,  8,  9, 10])"
      ]
     },
     "execution_count": 29,
     "metadata": {},
     "output_type": "execute_result"
    }
   ],
   "source": [
    "arr"
   ]
  },
  {
   "cell_type": "code",
   "execution_count": 30,
   "metadata": {},
   "outputs": [],
   "source": [
    "#5"
   ]
  },
  {
   "cell_type": "code",
   "execution_count": 31,
   "metadata": {},
   "outputs": [
    {
     "data": {
      "text/plain": [
       "5"
      ]
     },
     "execution_count": 31,
     "metadata": {},
     "output_type": "execute_result"
    }
   ],
   "source": [
    "arr[4]"
   ]
  },
  {
   "cell_type": "code",
   "execution_count": 32,
   "metadata": {},
   "outputs": [],
   "source": [
    "#3 to 5"
   ]
  },
  {
   "cell_type": "code",
   "execution_count": 33,
   "metadata": {},
   "outputs": [
    {
     "data": {
      "text/plain": [
       "array([3, 4, 5])"
      ]
     },
     "execution_count": 33,
     "metadata": {},
     "output_type": "execute_result"
    }
   ],
   "source": [
    "arr[2:5]"
   ]
  },
  {
   "cell_type": "code",
   "execution_count": 34,
   "metadata": {},
   "outputs": [
    {
     "data": {
      "text/plain": [
       "array([1, 2, 3, 4, 5])"
      ]
     },
     "execution_count": 34,
     "metadata": {},
     "output_type": "execute_result"
    }
   ],
   "source": [
    "arr[:5]"
   ]
  },
  {
   "cell_type": "code",
   "execution_count": 36,
   "metadata": {},
   "outputs": [],
   "source": [
    "arr5 = np.random.randint(10,50, size=(3,3))"
   ]
  },
  {
   "cell_type": "code",
   "execution_count": 37,
   "metadata": {},
   "outputs": [
    {
     "data": {
      "text/plain": [
       "array([[19, 14, 30],\n",
       "       [27, 42, 19],\n",
       "       [33, 40, 11]])"
      ]
     },
     "execution_count": 37,
     "metadata": {},
     "output_type": "execute_result"
    }
   ],
   "source": [
    "arr5"
   ]
  },
  {
   "cell_type": "code",
   "execution_count": 38,
   "metadata": {},
   "outputs": [],
   "source": [
    "#42"
   ]
  },
  {
   "cell_type": "code",
   "execution_count": 39,
   "metadata": {},
   "outputs": [
    {
     "data": {
      "text/plain": [
       "42"
      ]
     },
     "execution_count": 39,
     "metadata": {},
     "output_type": "execute_result"
    }
   ],
   "source": [
    "arr5[1][1]"
   ]
  },
  {
   "cell_type": "code",
   "execution_count": 40,
   "metadata": {},
   "outputs": [],
   "source": [
    "#33 and 40"
   ]
  },
  {
   "cell_type": "code",
   "execution_count": 41,
   "metadata": {},
   "outputs": [
    {
     "data": {
      "text/plain": [
       "array([33, 40])"
      ]
     },
     "execution_count": 41,
     "metadata": {},
     "output_type": "execute_result"
    }
   ],
   "source": [
    "arr5[2][0:2]"
   ]
  },
  {
   "cell_type": "code",
   "execution_count": 42,
   "metadata": {},
   "outputs": [],
   "source": [
    "arr6 = np.random.randint(1, 101, size=(10,10))"
   ]
  },
  {
   "cell_type": "code",
   "execution_count": 43,
   "metadata": {},
   "outputs": [
    {
     "data": {
      "text/plain": [
       "array([[ 52,  54,  67,  37,  65,  53,  84,  93,   8,   8],\n",
       "       [ 29,  24,  89,  68,  28,   6,  91,   8,  81,  12],\n",
       "       [  5,  52,  56,  93,  91,  96,   7,  53,  46, 100],\n",
       "       [ 16,   1,  27,  60,   2,  46,  86,  74,  38,  75],\n",
       "       [ 20,  14,  78,  99,  86,  57,  51,  19,  87,  54],\n",
       "       [ 82,  39,  56,  55,  61,  83,  71,  97,  45,  96],\n",
       "       [ 70,  96,  79,  20,  26,  39,  73,  26,  77,  52],\n",
       "       [ 76,  76,  61,  19,  41,  64,  87,  51,  16,  55],\n",
       "       [ 68,  78,  94,  27,  64,  35,  73, 100,  34,  14],\n",
       "       [ 26,   3,  88,  50,  55,  74,  88,  86,  89,  44]])"
      ]
     },
     "execution_count": 43,
     "metadata": {},
     "output_type": "execute_result"
    }
   ],
   "source": [
    "arr6"
   ]
  },
  {
   "cell_type": "code",
   "execution_count": 44,
   "metadata": {},
   "outputs": [],
   "source": [
    "#99"
   ]
  },
  {
   "cell_type": "code",
   "execution_count": 47,
   "metadata": {},
   "outputs": [
    {
     "data": {
      "text/plain": [
       "99"
      ]
     },
     "execution_count": 47,
     "metadata": {},
     "output_type": "execute_result"
    }
   ],
   "source": [
    "arr6[4,3]"
   ]
  },
  {
   "cell_type": "code",
   "execution_count": 48,
   "metadata": {},
   "outputs": [],
   "source": [
    "#93,   8,   8\n",
    "#8,  81,  12\n",
    "#53,  46, 100"
   ]
  },
  {
   "cell_type": "code",
   "execution_count": 49,
   "metadata": {},
   "outputs": [
    {
     "data": {
      "text/plain": [
       "array([[ 93,   8,   8],\n",
       "       [  8,  81,  12],\n",
       "       [ 53,  46, 100]])"
      ]
     },
     "execution_count": 49,
     "metadata": {},
     "output_type": "execute_result"
    }
   ],
   "source": [
    "arr6[0:3,7:]"
   ]
  },
  {
   "cell_type": "code",
   "execution_count": 50,
   "metadata": {},
   "outputs": [],
   "source": [
    "#7,  53,  46\n",
    "#86,  74,  38"
   ]
  },
  {
   "cell_type": "code",
   "execution_count": 56,
   "metadata": {},
   "outputs": [
    {
     "data": {
      "text/plain": [
       "array([[ 7, 53, 46],\n",
       "       [86, 74, 38]])"
      ]
     },
     "execution_count": 56,
     "metadata": {},
     "output_type": "execute_result"
    }
   ],
   "source": [
    "arr6[2:4, 6:9]"
   ]
  },
  {
   "cell_type": "code",
   "execution_count": 57,
   "metadata": {},
   "outputs": [],
   "source": [
    "#all numbers in lines 2, 4 and 5"
   ]
  },
  {
   "cell_type": "code",
   "execution_count": 59,
   "metadata": {},
   "outputs": [
    {
     "data": {
      "text/plain": [
       "array([[29, 24, 89, 68, 28,  6, 91,  8, 81, 12],\n",
       "       [16,  1, 27, 60,  2, 46, 86, 74, 38, 75],\n",
       "       [20, 14, 78, 99, 86, 57, 51, 19, 87, 54]])"
      ]
     },
     "execution_count": 59,
     "metadata": {},
     "output_type": "execute_result"
    }
   ],
   "source": [
    "arr6[[1,3,4]]"
   ]
  },
  {
   "cell_type": "code",
   "execution_count": 60,
   "metadata": {},
   "outputs": [],
   "source": [
    "cadastro = np.random.randint(15, 51, size=(50,10))"
   ]
  },
  {
   "cell_type": "code",
   "execution_count": 61,
   "metadata": {},
   "outputs": [
    {
     "data": {
      "text/plain": [
       "array([[32, 43, 34, 39, 26, 40, 34, 32, 15, 47],\n",
       "       [31, 42, 32, 41, 25, 26, 40, 48, 31, 21],\n",
       "       [46, 27, 41, 23, 45, 50, 35, 50, 45, 44],\n",
       "       [24, 27, 47, 17, 22, 39, 20, 40, 29, 28],\n",
       "       [45, 16, 43, 32, 27, 21, 24, 43, 17, 40],\n",
       "       [15, 50, 42, 17, 21, 46, 33, 21, 35, 46],\n",
       "       [32, 17, 49, 15, 27, 39, 15, 36, 41, 38],\n",
       "       [15, 29, 32, 25, 38, 30, 35, 50, 32, 34],\n",
       "       [44, 24, 40, 36, 30, 23, 19, 21, 31, 36],\n",
       "       [26, 39, 40, 21, 27, 41, 21, 20, 27, 29],\n",
       "       [47, 43, 20, 44, 43, 50, 16, 39, 37, 15],\n",
       "       [38, 37, 34, 40, 17, 46, 48, 17, 36, 32],\n",
       "       [39, 44, 22, 22, 49, 21, 36, 28, 36, 42],\n",
       "       [45, 32, 40, 42, 36, 35, 19, 15, 38, 27],\n",
       "       [47, 22, 23, 48, 20, 44, 39, 31, 38, 48],\n",
       "       [24, 25, 22, 39, 48, 30, 50, 34, 29, 38],\n",
       "       [33, 15, 44, 23, 43, 30, 23, 15, 29, 45],\n",
       "       [22, 35, 41, 33, 30, 18, 49, 30, 25, 15],\n",
       "       [44, 39, 20, 39, 39, 17, 39, 32, 17, 15],\n",
       "       [17, 46, 34, 37, 30, 33, 46, 15, 35, 49],\n",
       "       [41, 18, 17, 48, 49, 42, 35, 49, 24, 27],\n",
       "       [24, 39, 31, 45, 44, 40, 25, 24, 19, 27],\n",
       "       [30, 36, 32, 43, 18, 45, 15, 40, 29, 40],\n",
       "       [26, 24, 26, 46, 33, 31, 20, 34, 32, 20],\n",
       "       [45, 45, 42, 32, 40, 15, 41, 15, 15, 38],\n",
       "       [24, 40, 38, 30, 48, 46, 18, 21, 20, 36],\n",
       "       [21, 20, 33, 18, 17, 50, 27, 25, 25, 43],\n",
       "       [33, 34, 27, 41, 48, 41, 15, 38, 32, 20],\n",
       "       [23, 16, 48, 43, 39, 39, 43, 19, 20, 33],\n",
       "       [28, 46, 34, 26, 23, 28, 47, 40, 37, 36],\n",
       "       [36, 38, 44, 15, 44, 41, 46, 40, 45, 34],\n",
       "       [29, 20, 45, 37, 28, 16, 25, 45, 17, 39],\n",
       "       [40, 47, 40, 21, 20, 44, 19, 45, 39, 36],\n",
       "       [43, 16, 25, 22, 45, 47, 31, 44, 31, 45],\n",
       "       [32, 17, 31, 35, 40, 27, 29, 29, 46, 26],\n",
       "       [24, 20, 17, 31, 35, 22, 17, 47, 23, 39],\n",
       "       [17, 36, 30, 28, 46, 30, 19, 42, 44, 17],\n",
       "       [50, 16, 20, 40, 39, 18, 25, 22, 43, 21],\n",
       "       [43, 37, 35, 32, 40, 42, 40, 33, 42, 35],\n",
       "       [45, 16, 28, 38, 17, 30, 33, 48, 31, 31],\n",
       "       [19, 18, 17, 18, 50, 46, 16, 40, 50, 41],\n",
       "       [20, 48, 35, 34, 48, 25, 38, 45, 23, 38],\n",
       "       [38, 28, 35, 48, 18, 16, 39, 41, 21, 44],\n",
       "       [50, 30, 17, 41, 48, 32, 41, 35, 19, 22],\n",
       "       [28, 20, 17, 22, 36, 42, 37, 28, 26, 39],\n",
       "       [45, 39, 18, 35, 46, 18, 33, 29, 31, 34],\n",
       "       [25, 35, 21, 47, 25, 30, 34, 31, 28, 23],\n",
       "       [43, 24, 24, 40, 18, 40, 41, 21, 49, 32],\n",
       "       [20, 42, 30, 41, 15, 33, 34, 31, 15, 31],\n",
       "       [15, 32, 47, 42, 24, 44, 49, 26, 30, 45]])"
      ]
     },
     "execution_count": 61,
     "metadata": {},
     "output_type": "execute_result"
    }
   ],
   "source": [
    "cadastro"
   ]
  },
  {
   "cell_type": "code",
   "execution_count": 70,
   "metadata": {},
   "outputs": [],
   "source": [
    "cadastro_maior_idade = cadastro >= 18"
   ]
  },
  {
   "cell_type": "code",
   "execution_count": 67,
   "metadata": {},
   "outputs": [
    {
     "data": {
      "text/plain": [
       "array([32, 43, 34, 39, 26, 40, 34, 32, 47, 31, 42, 32, 41, 25, 26, 40, 48,\n",
       "       31, 21, 46, 27, 41, 23, 45, 50, 35, 50, 45, 44, 24, 27, 47, 22, 39,\n",
       "       20, 40, 29, 28, 45, 43, 32, 27, 21, 24, 43, 40, 50, 42, 21, 46, 33,\n",
       "       21, 35, 46, 32, 49, 27, 39, 36, 41, 38, 29, 32, 25, 38, 30, 35, 50,\n",
       "       32, 34, 44, 24, 40, 36, 30, 23, 19, 21, 31, 36, 26, 39, 40, 21, 27,\n",
       "       41, 21, 20, 27, 29, 47, 43, 20, 44, 43, 50, 39, 37, 38, 37, 34, 40,\n",
       "       46, 48, 36, 32, 39, 44, 22, 22, 49, 21, 36, 28, 36, 42, 45, 32, 40,\n",
       "       42, 36, 35, 19, 38, 27, 47, 22, 23, 48, 20, 44, 39, 31, 38, 48, 24,\n",
       "       25, 22, 39, 48, 30, 50, 34, 29, 38, 33, 44, 23, 43, 30, 23, 29, 45,\n",
       "       22, 35, 41, 33, 30, 18, 49, 30, 25, 44, 39, 20, 39, 39, 39, 32, 46,\n",
       "       34, 37, 30, 33, 46, 35, 49, 41, 18, 48, 49, 42, 35, 49, 24, 27, 24,\n",
       "       39, 31, 45, 44, 40, 25, 24, 19, 27, 30, 36, 32, 43, 18, 45, 40, 29,\n",
       "       40, 26, 24, 26, 46, 33, 31, 20, 34, 32, 20, 45, 45, 42, 32, 40, 41,\n",
       "       38, 24, 40, 38, 30, 48, 46, 18, 21, 20, 36, 21, 20, 33, 18, 50, 27,\n",
       "       25, 25, 43, 33, 34, 27, 41, 48, 41, 38, 32, 20, 23, 48, 43, 39, 39,\n",
       "       43, 19, 20, 33, 28, 46, 34, 26, 23, 28, 47, 40, 37, 36, 36, 38, 44,\n",
       "       44, 41, 46, 40, 45, 34, 29, 20, 45, 37, 28, 25, 45, 39, 40, 47, 40,\n",
       "       21, 20, 44, 19, 45, 39, 36, 43, 25, 22, 45, 47, 31, 44, 31, 45, 32,\n",
       "       31, 35, 40, 27, 29, 29, 46, 26, 24, 20, 31, 35, 22, 47, 23, 39, 36,\n",
       "       30, 28, 46, 30, 19, 42, 44, 50, 20, 40, 39, 18, 25, 22, 43, 21, 43,\n",
       "       37, 35, 32, 40, 42, 40, 33, 42, 35, 45, 28, 38, 30, 33, 48, 31, 31,\n",
       "       19, 18, 18, 50, 46, 40, 50, 41, 20, 48, 35, 34, 48, 25, 38, 45, 23,\n",
       "       38, 38, 28, 35, 48, 18, 39, 41, 21, 44, 50, 30, 41, 48, 32, 41, 35,\n",
       "       19, 22, 28, 20, 22, 36, 42, 37, 28, 26, 39, 45, 39, 18, 35, 46, 18,\n",
       "       33, 29, 31, 34, 25, 35, 21, 47, 25, 30, 34, 31, 28, 23, 43, 24, 24,\n",
       "       40, 18, 40, 41, 21, 49, 32, 20, 42, 30, 41, 33, 34, 31, 31, 32, 47,\n",
       "       42, 24, 44, 49, 26, 30, 45])"
      ]
     },
     "execution_count": 67,
     "metadata": {},
     "output_type": "execute_result"
    }
   ],
   "source": [
    "cadastro[cadastro_maior_idade]"
   ]
  },
  {
   "cell_type": "code",
   "execution_count": 65,
   "metadata": {},
   "outputs": [
    {
     "data": {
      "text/plain": [
       "array([32, 43, 34, 39, 26, 40, 34, 32, 47, 31, 42, 32, 41, 25, 26, 40, 48,\n",
       "       31, 21, 46, 27, 41, 23, 45, 50, 35, 50, 45, 44, 24, 27, 47, 22, 39,\n",
       "       20, 40, 29, 28, 45, 43, 32, 27, 21, 24, 43, 40, 50, 42, 21, 46, 33,\n",
       "       21, 35, 46, 32, 49, 27, 39, 36, 41, 38, 29, 32, 25, 38, 30, 35, 50,\n",
       "       32, 34, 44, 24, 40, 36, 30, 23, 19, 21, 31, 36, 26, 39, 40, 21, 27,\n",
       "       41, 21, 20, 27, 29, 47, 43, 20, 44, 43, 50, 39, 37, 38, 37, 34, 40,\n",
       "       46, 48, 36, 32, 39, 44, 22, 22, 49, 21, 36, 28, 36, 42, 45, 32, 40,\n",
       "       42, 36, 35, 19, 38, 27, 47, 22, 23, 48, 20, 44, 39, 31, 38, 48, 24,\n",
       "       25, 22, 39, 48, 30, 50, 34, 29, 38, 33, 44, 23, 43, 30, 23, 29, 45,\n",
       "       22, 35, 41, 33, 30, 18, 49, 30, 25, 44, 39, 20, 39, 39, 39, 32, 46,\n",
       "       34, 37, 30, 33, 46, 35, 49, 41, 18, 48, 49, 42, 35, 49, 24, 27, 24,\n",
       "       39, 31, 45, 44, 40, 25, 24, 19, 27, 30, 36, 32, 43, 18, 45, 40, 29,\n",
       "       40, 26, 24, 26, 46, 33, 31, 20, 34, 32, 20, 45, 45, 42, 32, 40, 41,\n",
       "       38, 24, 40, 38, 30, 48, 46, 18, 21, 20, 36, 21, 20, 33, 18, 50, 27,\n",
       "       25, 25, 43, 33, 34, 27, 41, 48, 41, 38, 32, 20, 23, 48, 43, 39, 39,\n",
       "       43, 19, 20, 33, 28, 46, 34, 26, 23, 28, 47, 40, 37, 36, 36, 38, 44,\n",
       "       44, 41, 46, 40, 45, 34, 29, 20, 45, 37, 28, 25, 45, 39, 40, 47, 40,\n",
       "       21, 20, 44, 19, 45, 39, 36, 43, 25, 22, 45, 47, 31, 44, 31, 45, 32,\n",
       "       31, 35, 40, 27, 29, 29, 46, 26, 24, 20, 31, 35, 22, 47, 23, 39, 36,\n",
       "       30, 28, 46, 30, 19, 42, 44, 50, 20, 40, 39, 18, 25, 22, 43, 21, 43,\n",
       "       37, 35, 32, 40, 42, 40, 33, 42, 35, 45, 28, 38, 30, 33, 48, 31, 31,\n",
       "       19, 18, 18, 50, 46, 40, 50, 41, 20, 48, 35, 34, 48, 25, 38, 45, 23,\n",
       "       38, 38, 28, 35, 48, 18, 39, 41, 21, 44, 50, 30, 41, 48, 32, 41, 35,\n",
       "       19, 22, 28, 20, 22, 36, 42, 37, 28, 26, 39, 45, 39, 18, 35, 46, 18,\n",
       "       33, 29, 31, 34, 25, 35, 21, 47, 25, 30, 34, 31, 28, 23, 43, 24, 24,\n",
       "       40, 18, 40, 41, 21, 49, 32, 20, 42, 30, 41, 33, 34, 31, 31, 32, 47,\n",
       "       42, 24, 44, 49, 26, 30, 45])"
      ]
     },
     "execution_count": 65,
     "metadata": {},
     "output_type": "execute_result"
    }
   ],
   "source": [
    "cadastro[cadastro>=18]"
   ]
  },
  {
   "cell_type": "code",
   "execution_count": 68,
   "metadata": {},
   "outputs": [
    {
     "data": {
      "text/plain": [
       "449"
      ]
     },
     "execution_count": 68,
     "metadata": {},
     "output_type": "execute_result"
    }
   ],
   "source": [
    "len(cadastro[cadastro>=18])"
   ]
  },
  {
   "cell_type": "code",
   "execution_count": 71,
   "metadata": {},
   "outputs": [],
   "source": [
    "condicao = (cadastro>=20)"
   ]
  },
  {
   "cell_type": "code",
   "execution_count": 72,
   "metadata": {},
   "outputs": [],
   "source": [
    "extraido = np.extract(condicao, cadastro)"
   ]
  },
  {
   "cell_type": "code",
   "execution_count": 73,
   "metadata": {},
   "outputs": [
    {
     "data": {
      "text/plain": [
       "array([32, 43, 34, 39, 26, 40, 34, 32, 47, 31, 42, 32, 41, 25, 26, 40, 48,\n",
       "       31, 21, 46, 27, 41, 23, 45, 50, 35, 50, 45, 44, 24, 27, 47, 22, 39,\n",
       "       20, 40, 29, 28, 45, 43, 32, 27, 21, 24, 43, 40, 50, 42, 21, 46, 33,\n",
       "       21, 35, 46, 32, 49, 27, 39, 36, 41, 38, 29, 32, 25, 38, 30, 35, 50,\n",
       "       32, 34, 44, 24, 40, 36, 30, 23, 21, 31, 36, 26, 39, 40, 21, 27, 41,\n",
       "       21, 20, 27, 29, 47, 43, 20, 44, 43, 50, 39, 37, 38, 37, 34, 40, 46,\n",
       "       48, 36, 32, 39, 44, 22, 22, 49, 21, 36, 28, 36, 42, 45, 32, 40, 42,\n",
       "       36, 35, 38, 27, 47, 22, 23, 48, 20, 44, 39, 31, 38, 48, 24, 25, 22,\n",
       "       39, 48, 30, 50, 34, 29, 38, 33, 44, 23, 43, 30, 23, 29, 45, 22, 35,\n",
       "       41, 33, 30, 49, 30, 25, 44, 39, 20, 39, 39, 39, 32, 46, 34, 37, 30,\n",
       "       33, 46, 35, 49, 41, 48, 49, 42, 35, 49, 24, 27, 24, 39, 31, 45, 44,\n",
       "       40, 25, 24, 27, 30, 36, 32, 43, 45, 40, 29, 40, 26, 24, 26, 46, 33,\n",
       "       31, 20, 34, 32, 20, 45, 45, 42, 32, 40, 41, 38, 24, 40, 38, 30, 48,\n",
       "       46, 21, 20, 36, 21, 20, 33, 50, 27, 25, 25, 43, 33, 34, 27, 41, 48,\n",
       "       41, 38, 32, 20, 23, 48, 43, 39, 39, 43, 20, 33, 28, 46, 34, 26, 23,\n",
       "       28, 47, 40, 37, 36, 36, 38, 44, 44, 41, 46, 40, 45, 34, 29, 20, 45,\n",
       "       37, 28, 25, 45, 39, 40, 47, 40, 21, 20, 44, 45, 39, 36, 43, 25, 22,\n",
       "       45, 47, 31, 44, 31, 45, 32, 31, 35, 40, 27, 29, 29, 46, 26, 24, 20,\n",
       "       31, 35, 22, 47, 23, 39, 36, 30, 28, 46, 30, 42, 44, 50, 20, 40, 39,\n",
       "       25, 22, 43, 21, 43, 37, 35, 32, 40, 42, 40, 33, 42, 35, 45, 28, 38,\n",
       "       30, 33, 48, 31, 31, 50, 46, 40, 50, 41, 20, 48, 35, 34, 48, 25, 38,\n",
       "       45, 23, 38, 38, 28, 35, 48, 39, 41, 21, 44, 50, 30, 41, 48, 32, 41,\n",
       "       35, 22, 28, 20, 22, 36, 42, 37, 28, 26, 39, 45, 39, 35, 46, 33, 29,\n",
       "       31, 34, 25, 35, 21, 47, 25, 30, 34, 31, 28, 23, 43, 24, 24, 40, 40,\n",
       "       41, 21, 49, 32, 20, 42, 30, 41, 33, 34, 31, 31, 32, 47, 42, 24, 44,\n",
       "       49, 26, 30, 45])"
      ]
     },
     "execution_count": 73,
     "metadata": {},
     "output_type": "execute_result"
    }
   ],
   "source": [
    "extraido"
   ]
  },
  {
   "cell_type": "code",
   "execution_count": null,
   "metadata": {},
   "outputs": [],
   "source": []
  }
 ],
 "metadata": {
  "kernelspec": {
   "display_name": "Python 3",
   "language": "python",
   "name": "python3"
  },
  "language_info": {
   "codemirror_mode": {
    "name": "ipython",
    "version": 3
   },
   "file_extension": ".py",
   "mimetype": "text/x-python",
   "name": "python",
   "nbconvert_exporter": "python",
   "pygments_lexer": "ipython3",
   "version": "3.8.3"
  }
 },
 "nbformat": 4,
 "nbformat_minor": 4
}
