{
 "cells": [
  {
   "cell_type": "code",
   "execution_count": 15,
   "metadata": {},
   "outputs": [],
   "source": [
    "import pandas as pd\n",
    "import numpy as np"
   ]
  },
  {
   "cell_type": "code",
   "execution_count": 16,
   "metadata": {},
   "outputs": [],
   "source": [
    "lista = [['BRASIL','BRASIL','BRASIL','ARGENTINA','ARGENTINA','ARGENTINA'],[2017,2018,2019,2017,2018,2019]]"
   ]
  },
  {
   "cell_type": "code",
   "execution_count": 17,
   "metadata": {},
   "outputs": [],
   "source": [
    "tuplas = zip(*lista)"
   ]
  },
  {
   "cell_type": "code",
   "execution_count": 18,
   "metadata": {},
   "outputs": [],
   "source": [
    "tuplas = list(tuplas)"
   ]
  },
  {
   "cell_type": "code",
   "execution_count": 19,
   "metadata": {},
   "outputs": [
    {
     "data": {
      "text/plain": [
       "[('BRASIL', 2017),\n",
       " ('BRASIL', 2018),\n",
       " ('BRASIL', 2019),\n",
       " ('ARGENTINA', 2017),\n",
       " ('ARGENTINA', 2018),\n",
       " ('ARGENTINA', 2019)]"
      ]
     },
     "execution_count": 19,
     "metadata": {},
     "output_type": "execute_result"
    }
   ],
   "source": [
    "tuplas"
   ]
  },
  {
   "cell_type": "code",
   "execution_count": 20,
   "metadata": {},
   "outputs": [],
   "source": [
    "multi = pd.MultiIndex.from_tuples(tuplas)"
   ]
  },
  {
   "cell_type": "code",
   "execution_count": 21,
   "metadata": {},
   "outputs": [
    {
     "data": {
      "text/plain": [
       "MultiIndex([(   'BRASIL', 2017),\n",
       "            (   'BRASIL', 2018),\n",
       "            (   'BRASIL', 2019),\n",
       "            ('ARGENTINA', 2017),\n",
       "            ('ARGENTINA', 2018),\n",
       "            ('ARGENTINA', 2019)],\n",
       "           )"
      ]
     },
     "execution_count": 21,
     "metadata": {},
     "output_type": "execute_result"
    }
   ],
   "source": [
    "multi"
   ]
  },
  {
   "cell_type": "code",
   "execution_count": 22,
   "metadata": {},
   "outputs": [],
   "source": [
    "dataframe1 = pd.DataFrame(data = np.random.randn(6,2), index = multi, columns = ['EXP TRIGO', 'EXP ARROZ'])"
   ]
  },
  {
   "cell_type": "code",
   "execution_count": 23,
   "metadata": {},
   "outputs": [
    {
     "data": {
      "text/html": [
       "<div>\n",
       "<style scoped>\n",
       "    .dataframe tbody tr th:only-of-type {\n",
       "        vertical-align: middle;\n",
       "    }\n",
       "\n",
       "    .dataframe tbody tr th {\n",
       "        vertical-align: top;\n",
       "    }\n",
       "\n",
       "    .dataframe thead th {\n",
       "        text-align: right;\n",
       "    }\n",
       "</style>\n",
       "<table border=\"1\" class=\"dataframe\">\n",
       "  <thead>\n",
       "    <tr style=\"text-align: right;\">\n",
       "      <th></th>\n",
       "      <th></th>\n",
       "      <th>EXP TRIGO</th>\n",
       "      <th>EXP ARROZ</th>\n",
       "    </tr>\n",
       "  </thead>\n",
       "  <tbody>\n",
       "    <tr>\n",
       "      <th rowspan=\"3\" valign=\"top\">BRASIL</th>\n",
       "      <th>2017</th>\n",
       "      <td>-0.859589</td>\n",
       "      <td>0.597716</td>\n",
       "    </tr>\n",
       "    <tr>\n",
       "      <th>2018</th>\n",
       "      <td>2.109525</td>\n",
       "      <td>-0.627526</td>\n",
       "    </tr>\n",
       "    <tr>\n",
       "      <th>2019</th>\n",
       "      <td>-0.476279</td>\n",
       "      <td>-1.570374</td>\n",
       "    </tr>\n",
       "    <tr>\n",
       "      <th rowspan=\"3\" valign=\"top\">ARGENTINA</th>\n",
       "      <th>2017</th>\n",
       "      <td>0.554088</td>\n",
       "      <td>-0.747962</td>\n",
       "    </tr>\n",
       "    <tr>\n",
       "      <th>2018</th>\n",
       "      <td>0.467379</td>\n",
       "      <td>-0.372557</td>\n",
       "    </tr>\n",
       "    <tr>\n",
       "      <th>2019</th>\n",
       "      <td>0.746529</td>\n",
       "      <td>0.636098</td>\n",
       "    </tr>\n",
       "  </tbody>\n",
       "</table>\n",
       "</div>"
      ],
      "text/plain": [
       "                EXP TRIGO  EXP ARROZ\n",
       "BRASIL    2017  -0.859589   0.597716\n",
       "          2018   2.109525  -0.627526\n",
       "          2019  -0.476279  -1.570374\n",
       "ARGENTINA 2017   0.554088  -0.747962\n",
       "          2018   0.467379  -0.372557\n",
       "          2019   0.746529   0.636098"
      ]
     },
     "execution_count": 23,
     "metadata": {},
     "output_type": "execute_result"
    }
   ],
   "source": [
    "dataframe1"
   ]
  },
  {
   "cell_type": "code",
   "execution_count": 24,
   "metadata": {},
   "outputs": [],
   "source": [
    "dataframe1.index.names = ['PAÍS', 'ANO']"
   ]
  },
  {
   "cell_type": "code",
   "execution_count": 25,
   "metadata": {},
   "outputs": [
    {
     "data": {
      "text/html": [
       "<div>\n",
       "<style scoped>\n",
       "    .dataframe tbody tr th:only-of-type {\n",
       "        vertical-align: middle;\n",
       "    }\n",
       "\n",
       "    .dataframe tbody tr th {\n",
       "        vertical-align: top;\n",
       "    }\n",
       "\n",
       "    .dataframe thead th {\n",
       "        text-align: right;\n",
       "    }\n",
       "</style>\n",
       "<table border=\"1\" class=\"dataframe\">\n",
       "  <thead>\n",
       "    <tr style=\"text-align: right;\">\n",
       "      <th></th>\n",
       "      <th></th>\n",
       "      <th>EXP TRIGO</th>\n",
       "      <th>EXP ARROZ</th>\n",
       "    </tr>\n",
       "    <tr>\n",
       "      <th>PAÍS</th>\n",
       "      <th>ANO</th>\n",
       "      <th></th>\n",
       "      <th></th>\n",
       "    </tr>\n",
       "  </thead>\n",
       "  <tbody>\n",
       "    <tr>\n",
       "      <th rowspan=\"3\" valign=\"top\">BRASIL</th>\n",
       "      <th>2017</th>\n",
       "      <td>-0.859589</td>\n",
       "      <td>0.597716</td>\n",
       "    </tr>\n",
       "    <tr>\n",
       "      <th>2018</th>\n",
       "      <td>2.109525</td>\n",
       "      <td>-0.627526</td>\n",
       "    </tr>\n",
       "    <tr>\n",
       "      <th>2019</th>\n",
       "      <td>-0.476279</td>\n",
       "      <td>-1.570374</td>\n",
       "    </tr>\n",
       "    <tr>\n",
       "      <th rowspan=\"3\" valign=\"top\">ARGENTINA</th>\n",
       "      <th>2017</th>\n",
       "      <td>0.554088</td>\n",
       "      <td>-0.747962</td>\n",
       "    </tr>\n",
       "    <tr>\n",
       "      <th>2018</th>\n",
       "      <td>0.467379</td>\n",
       "      <td>-0.372557</td>\n",
       "    </tr>\n",
       "    <tr>\n",
       "      <th>2019</th>\n",
       "      <td>0.746529</td>\n",
       "      <td>0.636098</td>\n",
       "    </tr>\n",
       "  </tbody>\n",
       "</table>\n",
       "</div>"
      ],
      "text/plain": [
       "                EXP TRIGO  EXP ARROZ\n",
       "PAÍS      ANO                       \n",
       "BRASIL    2017  -0.859589   0.597716\n",
       "          2018   2.109525  -0.627526\n",
       "          2019  -0.476279  -1.570374\n",
       "ARGENTINA 2017   0.554088  -0.747962\n",
       "          2018   0.467379  -0.372557\n",
       "          2019   0.746529   0.636098"
      ]
     },
     "execution_count": 25,
     "metadata": {},
     "output_type": "execute_result"
    }
   ],
   "source": [
    "dataframe1"
   ]
  },
  {
   "cell_type": "code",
   "execution_count": 26,
   "metadata": {},
   "outputs": [],
   "source": [
    "#Encontrar valores"
   ]
  },
  {
   "cell_type": "code",
   "execution_count": 27,
   "metadata": {},
   "outputs": [
    {
     "data": {
      "text/plain": [
       "PAÍS       ANO \n",
       "BRASIL     2017    0.597716\n",
       "           2018   -0.627526\n",
       "           2019   -1.570374\n",
       "ARGENTINA  2017   -0.747962\n",
       "           2018   -0.372557\n",
       "           2019    0.636098\n",
       "Name: EXP ARROZ, dtype: float64"
      ]
     },
     "execution_count": 27,
     "metadata": {},
     "output_type": "execute_result"
    }
   ],
   "source": [
    "dataframe1['EXP ARROZ']"
   ]
  },
  {
   "cell_type": "code",
   "execution_count": 28,
   "metadata": {},
   "outputs": [
    {
     "data": {
      "text/html": [
       "<div>\n",
       "<style scoped>\n",
       "    .dataframe tbody tr th:only-of-type {\n",
       "        vertical-align: middle;\n",
       "    }\n",
       "\n",
       "    .dataframe tbody tr th {\n",
       "        vertical-align: top;\n",
       "    }\n",
       "\n",
       "    .dataframe thead th {\n",
       "        text-align: right;\n",
       "    }\n",
       "</style>\n",
       "<table border=\"1\" class=\"dataframe\">\n",
       "  <thead>\n",
       "    <tr style=\"text-align: right;\">\n",
       "      <th></th>\n",
       "      <th>EXP TRIGO</th>\n",
       "      <th>EXP ARROZ</th>\n",
       "    </tr>\n",
       "    <tr>\n",
       "      <th>ANO</th>\n",
       "      <th></th>\n",
       "      <th></th>\n",
       "    </tr>\n",
       "  </thead>\n",
       "  <tbody>\n",
       "    <tr>\n",
       "      <th>2017</th>\n",
       "      <td>-0.859589</td>\n",
       "      <td>0.597716</td>\n",
       "    </tr>\n",
       "    <tr>\n",
       "      <th>2018</th>\n",
       "      <td>2.109525</td>\n",
       "      <td>-0.627526</td>\n",
       "    </tr>\n",
       "    <tr>\n",
       "      <th>2019</th>\n",
       "      <td>-0.476279</td>\n",
       "      <td>-1.570374</td>\n",
       "    </tr>\n",
       "  </tbody>\n",
       "</table>\n",
       "</div>"
      ],
      "text/plain": [
       "      EXP TRIGO  EXP ARROZ\n",
       "ANO                       \n",
       "2017  -0.859589   0.597716\n",
       "2018   2.109525  -0.627526\n",
       "2019  -0.476279  -1.570374"
      ]
     },
     "execution_count": 28,
     "metadata": {},
     "output_type": "execute_result"
    }
   ],
   "source": [
    "dataframe1.loc['BRASIL']"
   ]
  },
  {
   "cell_type": "code",
   "execution_count": 37,
   "metadata": {},
   "outputs": [
    {
     "data": {
      "text/html": [
       "<div>\n",
       "<style scoped>\n",
       "    .dataframe tbody tr th:only-of-type {\n",
       "        vertical-align: middle;\n",
       "    }\n",
       "\n",
       "    .dataframe tbody tr th {\n",
       "        vertical-align: top;\n",
       "    }\n",
       "\n",
       "    .dataframe thead th {\n",
       "        text-align: right;\n",
       "    }\n",
       "</style>\n",
       "<table border=\"1\" class=\"dataframe\">\n",
       "  <thead>\n",
       "    <tr style=\"text-align: right;\">\n",
       "      <th></th>\n",
       "      <th>EXP TRIGO</th>\n",
       "      <th>EXP ARROZ</th>\n",
       "    </tr>\n",
       "    <tr>\n",
       "      <th>PAÍS</th>\n",
       "      <th></th>\n",
       "      <th></th>\n",
       "    </tr>\n",
       "  </thead>\n",
       "  <tbody>\n",
       "    <tr>\n",
       "      <th>BRASIL</th>\n",
       "      <td>-0.859589</td>\n",
       "      <td>0.597716</td>\n",
       "    </tr>\n",
       "    <tr>\n",
       "      <th>ARGENTINA</th>\n",
       "      <td>0.554088</td>\n",
       "      <td>-0.747962</td>\n",
       "    </tr>\n",
       "  </tbody>\n",
       "</table>\n",
       "</div>"
      ],
      "text/plain": [
       "           EXP TRIGO  EXP ARROZ\n",
       "PAÍS                           \n",
       "BRASIL     -0.859589   0.597716\n",
       "ARGENTINA   0.554088  -0.747962"
      ]
     },
     "execution_count": 37,
     "metadata": {},
     "output_type": "execute_result"
    }
   ],
   "source": [
    "dataframe1.xs(2017, level = 1)"
   ]
  },
  {
   "cell_type": "code",
   "execution_count": 38,
   "metadata": {},
   "outputs": [
    {
     "data": {
      "text/plain": [
       "PAÍS\n",
       "BRASIL       0.597716\n",
       "ARGENTINA   -0.747962\n",
       "Name: EXP ARROZ, dtype: float64"
      ]
     },
     "execution_count": 38,
     "metadata": {},
     "output_type": "execute_result"
    }
   ],
   "source": [
    "dataframe1.xs(2017, level = 1)['EXP ARROZ']"
   ]
  },
  {
   "cell_type": "code",
   "execution_count": 39,
   "metadata": {},
   "outputs": [
    {
     "data": {
      "text/html": [
       "<div>\n",
       "<style scoped>\n",
       "    .dataframe tbody tr th:only-of-type {\n",
       "        vertical-align: middle;\n",
       "    }\n",
       "\n",
       "    .dataframe tbody tr th {\n",
       "        vertical-align: top;\n",
       "    }\n",
       "\n",
       "    .dataframe thead th {\n",
       "        text-align: right;\n",
       "    }\n",
       "</style>\n",
       "<table border=\"1\" class=\"dataframe\">\n",
       "  <thead>\n",
       "    <tr style=\"text-align: right;\">\n",
       "      <th></th>\n",
       "      <th></th>\n",
       "      <th>EXP TRIGO</th>\n",
       "      <th>EXP ARROZ</th>\n",
       "    </tr>\n",
       "    <tr>\n",
       "      <th>PAÍS</th>\n",
       "      <th>ANO</th>\n",
       "      <th></th>\n",
       "      <th></th>\n",
       "    </tr>\n",
       "  </thead>\n",
       "  <tbody>\n",
       "    <tr>\n",
       "      <th rowspan=\"2\" valign=\"top\">BRASIL</th>\n",
       "      <th>2017</th>\n",
       "      <td>-0.859589</td>\n",
       "      <td>0.597716</td>\n",
       "    </tr>\n",
       "    <tr>\n",
       "      <th>2018</th>\n",
       "      <td>2.109525</td>\n",
       "      <td>-0.627526</td>\n",
       "    </tr>\n",
       "  </tbody>\n",
       "</table>\n",
       "</div>"
      ],
      "text/plain": [
       "             EXP TRIGO  EXP ARROZ\n",
       "PAÍS   ANO                       \n",
       "BRASIL 2017  -0.859589   0.597716\n",
       "       2018   2.109525  -0.627526"
      ]
     },
     "execution_count": 39,
     "metadata": {},
     "output_type": "execute_result"
    }
   ],
   "source": [
    "dataframe1[:2]"
   ]
  },
  {
   "cell_type": "code",
   "execution_count": 40,
   "metadata": {},
   "outputs": [
    {
     "data": {
      "text/html": [
       "<div>\n",
       "<style scoped>\n",
       "    .dataframe tbody tr th:only-of-type {\n",
       "        vertical-align: middle;\n",
       "    }\n",
       "\n",
       "    .dataframe tbody tr th {\n",
       "        vertical-align: top;\n",
       "    }\n",
       "\n",
       "    .dataframe thead th {\n",
       "        text-align: right;\n",
       "    }\n",
       "</style>\n",
       "<table border=\"1\" class=\"dataframe\">\n",
       "  <thead>\n",
       "    <tr style=\"text-align: right;\">\n",
       "      <th></th>\n",
       "      <th></th>\n",
       "      <th>EXP TRIGO</th>\n",
       "      <th>EXP ARROZ</th>\n",
       "    </tr>\n",
       "    <tr>\n",
       "      <th>PAÍS</th>\n",
       "      <th>ANO</th>\n",
       "      <th></th>\n",
       "      <th></th>\n",
       "    </tr>\n",
       "  </thead>\n",
       "  <tbody>\n",
       "    <tr>\n",
       "      <th rowspan=\"3\" valign=\"top\">BRASIL</th>\n",
       "      <th>2017</th>\n",
       "      <td>-0.859589</td>\n",
       "      <td>0.597716</td>\n",
       "    </tr>\n",
       "    <tr>\n",
       "      <th>2018</th>\n",
       "      <td>2.109525</td>\n",
       "      <td>-0.627526</td>\n",
       "    </tr>\n",
       "    <tr>\n",
       "      <th>2019</th>\n",
       "      <td>-0.476279</td>\n",
       "      <td>-1.570374</td>\n",
       "    </tr>\n",
       "    <tr>\n",
       "      <th rowspan=\"2\" valign=\"top\">ARGENTINA</th>\n",
       "      <th>2017</th>\n",
       "      <td>0.554088</td>\n",
       "      <td>-0.747962</td>\n",
       "    </tr>\n",
       "    <tr>\n",
       "      <th>2018</th>\n",
       "      <td>0.467379</td>\n",
       "      <td>-0.372557</td>\n",
       "    </tr>\n",
       "  </tbody>\n",
       "</table>\n",
       "</div>"
      ],
      "text/plain": [
       "                EXP TRIGO  EXP ARROZ\n",
       "PAÍS      ANO                       \n",
       "BRASIL    2017  -0.859589   0.597716\n",
       "          2018   2.109525  -0.627526\n",
       "          2019  -0.476279  -1.570374\n",
       "ARGENTINA 2017   0.554088  -0.747962\n",
       "          2018   0.467379  -0.372557"
      ]
     },
     "execution_count": 40,
     "metadata": {},
     "output_type": "execute_result"
    }
   ],
   "source": [
    "dataframe1[:5]"
   ]
  },
  {
   "cell_type": "code",
   "execution_count": 41,
   "metadata": {},
   "outputs": [
    {
     "data": {
      "text/html": [
       "<div>\n",
       "<style scoped>\n",
       "    .dataframe tbody tr th:only-of-type {\n",
       "        vertical-align: middle;\n",
       "    }\n",
       "\n",
       "    .dataframe tbody tr th {\n",
       "        vertical-align: top;\n",
       "    }\n",
       "\n",
       "    .dataframe thead th {\n",
       "        text-align: right;\n",
       "    }\n",
       "</style>\n",
       "<table border=\"1\" class=\"dataframe\">\n",
       "  <thead>\n",
       "    <tr style=\"text-align: right;\">\n",
       "      <th></th>\n",
       "      <th></th>\n",
       "      <th>EXP TRIGO</th>\n",
       "      <th>EXP ARROZ</th>\n",
       "    </tr>\n",
       "    <tr>\n",
       "      <th>PAÍS</th>\n",
       "      <th>ANO</th>\n",
       "      <th></th>\n",
       "      <th></th>\n",
       "    </tr>\n",
       "  </thead>\n",
       "  <tbody>\n",
       "    <tr>\n",
       "      <th rowspan=\"3\" valign=\"top\">BRASIL</th>\n",
       "      <th>2017</th>\n",
       "      <td>-0.859589</td>\n",
       "      <td>0.597716</td>\n",
       "    </tr>\n",
       "    <tr>\n",
       "      <th>2018</th>\n",
       "      <td>2.109525</td>\n",
       "      <td>-0.627526</td>\n",
       "    </tr>\n",
       "    <tr>\n",
       "      <th>2019</th>\n",
       "      <td>-0.476279</td>\n",
       "      <td>-1.570374</td>\n",
       "    </tr>\n",
       "    <tr>\n",
       "      <th rowspan=\"3\" valign=\"top\">ARGENTINA</th>\n",
       "      <th>2017</th>\n",
       "      <td>0.554088</td>\n",
       "      <td>-0.747962</td>\n",
       "    </tr>\n",
       "    <tr>\n",
       "      <th>2018</th>\n",
       "      <td>0.467379</td>\n",
       "      <td>-0.372557</td>\n",
       "    </tr>\n",
       "    <tr>\n",
       "      <th>2019</th>\n",
       "      <td>0.746529</td>\n",
       "      <td>0.636098</td>\n",
       "    </tr>\n",
       "  </tbody>\n",
       "</table>\n",
       "</div>"
      ],
      "text/plain": [
       "                EXP TRIGO  EXP ARROZ\n",
       "PAÍS      ANO                       \n",
       "BRASIL    2017  -0.859589   0.597716\n",
       "          2018   2.109525  -0.627526\n",
       "          2019  -0.476279  -1.570374\n",
       "ARGENTINA 2017   0.554088  -0.747962\n",
       "          2018   0.467379  -0.372557\n",
       "          2019   0.746529   0.636098"
      ]
     },
     "execution_count": 41,
     "metadata": {},
     "output_type": "execute_result"
    }
   ],
   "source": [
    "dataframe1[['EXP TRIGO', 'EXP ARROZ']]"
   ]
  },
  {
   "cell_type": "code",
   "execution_count": 44,
   "metadata": {},
   "outputs": [],
   "source": [
    "#Outra forma exibição do dataframe"
   ]
  },
  {
   "cell_type": "code",
   "execution_count": 45,
   "metadata": {},
   "outputs": [
    {
     "data": {
      "text/html": [
       "<div>\n",
       "<style scoped>\n",
       "    .dataframe tbody tr th:only-of-type {\n",
       "        vertical-align: middle;\n",
       "    }\n",
       "\n",
       "    .dataframe tbody tr th {\n",
       "        vertical-align: top;\n",
       "    }\n",
       "\n",
       "    .dataframe thead tr th {\n",
       "        text-align: left;\n",
       "    }\n",
       "\n",
       "    .dataframe thead tr:last-of-type th {\n",
       "        text-align: right;\n",
       "    }\n",
       "</style>\n",
       "<table border=\"1\" class=\"dataframe\">\n",
       "  <thead>\n",
       "    <tr>\n",
       "      <th></th>\n",
       "      <th colspan=\"3\" halign=\"left\">EXP TRIGO</th>\n",
       "      <th colspan=\"3\" halign=\"left\">EXP ARROZ</th>\n",
       "    </tr>\n",
       "    <tr>\n",
       "      <th>ANO</th>\n",
       "      <th>2017</th>\n",
       "      <th>2018</th>\n",
       "      <th>2019</th>\n",
       "      <th>2017</th>\n",
       "      <th>2018</th>\n",
       "      <th>2019</th>\n",
       "    </tr>\n",
       "    <tr>\n",
       "      <th>PAÍS</th>\n",
       "      <th></th>\n",
       "      <th></th>\n",
       "      <th></th>\n",
       "      <th></th>\n",
       "      <th></th>\n",
       "      <th></th>\n",
       "    </tr>\n",
       "  </thead>\n",
       "  <tbody>\n",
       "    <tr>\n",
       "      <th>ARGENTINA</th>\n",
       "      <td>0.554088</td>\n",
       "      <td>0.467379</td>\n",
       "      <td>0.746529</td>\n",
       "      <td>-0.747962</td>\n",
       "      <td>-0.372557</td>\n",
       "      <td>0.636098</td>\n",
       "    </tr>\n",
       "    <tr>\n",
       "      <th>BRASIL</th>\n",
       "      <td>-0.859589</td>\n",
       "      <td>2.109525</td>\n",
       "      <td>-0.476279</td>\n",
       "      <td>0.597716</td>\n",
       "      <td>-0.627526</td>\n",
       "      <td>-1.570374</td>\n",
       "    </tr>\n",
       "  </tbody>\n",
       "</table>\n",
       "</div>"
      ],
      "text/plain": [
       "          EXP TRIGO                     EXP ARROZ                    \n",
       "ANO            2017      2018      2019      2017      2018      2019\n",
       "PAÍS                                                                 \n",
       "ARGENTINA  0.554088  0.467379  0.746529 -0.747962 -0.372557  0.636098\n",
       "BRASIL    -0.859589  2.109525 -0.476279  0.597716 -0.627526 -1.570374"
      ]
     },
     "execution_count": 45,
     "metadata": {},
     "output_type": "execute_result"
    }
   ],
   "source": [
    "dataframe1.unstack()"
   ]
  },
  {
   "cell_type": "code",
   "execution_count": 46,
   "metadata": {},
   "outputs": [],
   "source": [
    "dataframe2 = dataframe1.unstack()"
   ]
  },
  {
   "cell_type": "code",
   "execution_count": 47,
   "metadata": {},
   "outputs": [
    {
     "data": {
      "text/html": [
       "<div>\n",
       "<style scoped>\n",
       "    .dataframe tbody tr th:only-of-type {\n",
       "        vertical-align: middle;\n",
       "    }\n",
       "\n",
       "    .dataframe tbody tr th {\n",
       "        vertical-align: top;\n",
       "    }\n",
       "\n",
       "    .dataframe thead tr th {\n",
       "        text-align: left;\n",
       "    }\n",
       "\n",
       "    .dataframe thead tr:last-of-type th {\n",
       "        text-align: right;\n",
       "    }\n",
       "</style>\n",
       "<table border=\"1\" class=\"dataframe\">\n",
       "  <thead>\n",
       "    <tr>\n",
       "      <th></th>\n",
       "      <th colspan=\"3\" halign=\"left\">EXP TRIGO</th>\n",
       "      <th colspan=\"3\" halign=\"left\">EXP ARROZ</th>\n",
       "    </tr>\n",
       "    <tr>\n",
       "      <th>ANO</th>\n",
       "      <th>2017</th>\n",
       "      <th>2018</th>\n",
       "      <th>2019</th>\n",
       "      <th>2017</th>\n",
       "      <th>2018</th>\n",
       "      <th>2019</th>\n",
       "    </tr>\n",
       "    <tr>\n",
       "      <th>PAÍS</th>\n",
       "      <th></th>\n",
       "      <th></th>\n",
       "      <th></th>\n",
       "      <th></th>\n",
       "      <th></th>\n",
       "      <th></th>\n",
       "    </tr>\n",
       "  </thead>\n",
       "  <tbody>\n",
       "    <tr>\n",
       "      <th>ARGENTINA</th>\n",
       "      <td>0.554088</td>\n",
       "      <td>0.467379</td>\n",
       "      <td>0.746529</td>\n",
       "      <td>-0.747962</td>\n",
       "      <td>-0.372557</td>\n",
       "      <td>0.636098</td>\n",
       "    </tr>\n",
       "    <tr>\n",
       "      <th>BRASIL</th>\n",
       "      <td>-0.859589</td>\n",
       "      <td>2.109525</td>\n",
       "      <td>-0.476279</td>\n",
       "      <td>0.597716</td>\n",
       "      <td>-0.627526</td>\n",
       "      <td>-1.570374</td>\n",
       "    </tr>\n",
       "  </tbody>\n",
       "</table>\n",
       "</div>"
      ],
      "text/plain": [
       "          EXP TRIGO                     EXP ARROZ                    \n",
       "ANO            2017      2018      2019      2017      2018      2019\n",
       "PAÍS                                                                 \n",
       "ARGENTINA  0.554088  0.467379  0.746529 -0.747962 -0.372557  0.636098\n",
       "BRASIL    -0.859589  2.109525 -0.476279  0.597716 -0.627526 -1.570374"
      ]
     },
     "execution_count": 47,
     "metadata": {},
     "output_type": "execute_result"
    }
   ],
   "source": [
    "dataframe2"
   ]
  },
  {
   "cell_type": "code",
   "execution_count": 53,
   "metadata": {},
   "outputs": [
    {
     "data": {
      "text/html": [
       "<div>\n",
       "<style scoped>\n",
       "    .dataframe tbody tr th:only-of-type {\n",
       "        vertical-align: middle;\n",
       "    }\n",
       "\n",
       "    .dataframe tbody tr th {\n",
       "        vertical-align: top;\n",
       "    }\n",
       "\n",
       "    .dataframe thead th {\n",
       "        text-align: right;\n",
       "    }\n",
       "</style>\n",
       "<table border=\"1\" class=\"dataframe\">\n",
       "  <thead>\n",
       "    <tr style=\"text-align: right;\">\n",
       "      <th></th>\n",
       "      <th>EXP TRIGO</th>\n",
       "      <th>EXP ARROZ</th>\n",
       "    </tr>\n",
       "    <tr>\n",
       "      <th>PAÍS</th>\n",
       "      <th></th>\n",
       "      <th></th>\n",
       "    </tr>\n",
       "  </thead>\n",
       "  <tbody>\n",
       "    <tr>\n",
       "      <th>ARGENTINA</th>\n",
       "      <td>0.554088</td>\n",
       "      <td>-0.747962</td>\n",
       "    </tr>\n",
       "    <tr>\n",
       "      <th>BRASIL</th>\n",
       "      <td>-0.859589</td>\n",
       "      <td>0.597716</td>\n",
       "    </tr>\n",
       "  </tbody>\n",
       "</table>\n",
       "</div>"
      ],
      "text/plain": [
       "           EXP TRIGO  EXP ARROZ\n",
       "PAÍS                           \n",
       "ARGENTINA   0.554088  -0.747962\n",
       "BRASIL     -0.859589   0.597716"
      ]
     },
     "execution_count": 53,
     "metadata": {},
     "output_type": "execute_result"
    }
   ],
   "source": [
    "dataframe2.xs(2017, axis = 1, level = 1)"
   ]
  },
  {
   "cell_type": "code",
   "execution_count": null,
   "metadata": {},
   "outputs": [],
   "source": []
  }
 ],
 "metadata": {
  "kernelspec": {
   "display_name": "Python 3",
   "language": "python",
   "name": "python3"
  },
  "language_info": {
   "codemirror_mode": {
    "name": "ipython",
    "version": 3
   },
   "file_extension": ".py",
   "mimetype": "text/x-python",
   "name": "python",
   "nbconvert_exporter": "python",
   "pygments_lexer": "ipython3",
   "version": "3.8.3"
  }
 },
 "nbformat": 4,
 "nbformat_minor": 4
}
